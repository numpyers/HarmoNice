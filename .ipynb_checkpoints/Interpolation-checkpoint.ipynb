{
 "cells": [
  {
   "cell_type": "code",
   "execution_count": 127,
   "id": "a46ec58c-a884-48dc-836d-7880f7793052",
   "metadata": {},
   "outputs": [],
   "source": [
    "import numpy as np\n",
    "import matplotlib.pyplot as plt"
   ]
  },
  {
   "cell_type": "code",
   "execution_count": 128,
   "id": "080460d2-ec25-4cfe-99d8-4a270c4a01ee",
   "metadata": {},
   "outputs": [],
   "source": [
    "def divided_Diferences(points, predict_x):\n",
    "    coefficients_matrix = np.zeros((len(points), len(points)+1))\n",
    "    total = points[0][1]\n",
    "    polinom = predict_x - points[0][0]\n",
    "    for i in range(len(points)):\n",
    "        coefficients_matrix[i][0] = points[i][0]\n",
    "        coefficients_matrix[i][1] = points[i][1]\n",
    "    for i in range(1, len(points)):\n",
    "        for j in range(2, i+2):\n",
    "            coefficients_matrix[i][j] = ( coefficients_matrix[i][j-1] - coefficients_matrix[i-1][j-1] ) / (coefficients_matrix[i][0] - coefficients_matrix[i-(j-1)][0])\n",
    "    for i in range(1, (len(points))):\n",
    "        total +=  coefficients_matrix[i, i+1]*polinom\n",
    "        polinom *= (predict_x -  coefficients_matrix[i][0])\n",
    "    return total "
   ]
  },
  {
   "cell_type": "code",
   "execution_count": 129,
   "id": "f8975b9d-7561-4feb-86bc-2dfeb91e7b65",
   "metadata": {},
   "outputs": [],
   "source": [
    "def lagrange(points, predict_x):\n",
    "    points = list(zip(*points))\n",
    "    xpoints = points[0]\n",
    "    ypoints = points[1]\n",
    "    dividers = []\n",
    "    results=[]\n",
    "    dividers.append(xpoints[0]- xpoints[1])\n",
    "    for i in range(2, len(xpoints)):\n",
    "         dividers[0] *= xpoints[0] - xpoints[i]\n",
    "    for i in range(1, len(xpoints)):\n",
    "        dividers.append(xpoints[i]-xpoints[0])\n",
    "        for j in range(1, len(xpoints)):\n",
    "            dividers[i] *= (xpoints[i] - xpoints[j] )if i != j else 1\n",
    "    numerator =  predict_x - xpoints[1]\n",
    "    for i in range(2, len(xpoints)):\n",
    "         numerator *= predict_x - xpoints[i]\n",
    "    results.append(numerator * ypoints[i] / dividers[i])\n",
    "    for i in range(1, len(xpoints)):\n",
    "        numerator = predict_x - xpoints[0]\n",
    "        for j in range(1, len(xpoints)):\n",
    "            numerator *= (predict_x - xpoints[j]) if i != j else 1\n",
    "        results.append(numerator * ypoints[i] / dividers[i])\n",
    "    return sum(results)\n",
    "        "
   ]
  },
  {
   "cell_type": "code",
   "execution_count": 130,
   "id": "df2b5e1c-ec3d-468b-ab90-7e0db1ab2838",
   "metadata": {},
   "outputs": [
    {
     "data": {
      "text/plain": [
       "1.1747703857421874"
      ]
     },
     "execution_count": 130,
     "metadata": {},
     "output_type": "execute_result"
    }
   ],
   "source": [
    "predictX = 1.45\n",
    "points = [(1, 0.6747), (1.2, 0.8491), (1.4, 1.1214), (1.6, 1.4921), (1.8, 1.9607), (2, 2.5258)]\n",
    "result = divided_Diferences(points, predictX)\n",
    "result2 = lagrange(points, predictX)\n",
    "result2"
   ]
  },
  {
   "cell_type": "code",
   "execution_count": 136,
   "id": "20f0d307-1e77-46ee-8030-e95cf7449b5a",
   "metadata": {},
   "outputs": [
    {
     "data": {
      "text/plain": [
       "[<matplotlib.lines.Line2D at 0x2c3c4404490>]"
      ]
     },
     "execution_count": 136,
     "metadata": {},
     "output_type": "execute_result"
    },
    {
     "data": {
      "image/png": "[encoded data removed]",
      "text/plain": [
       "<Figure size 432x288 with 1 Axes>"
      ]
     },
     "metadata": {
      "needs_background": "light"
     },
     "output_type": "display_data"
    }
   ],
   "source": [
    "coordinates = list(zip(*points))\n",
    "plt.plot(coordinates[0], coordinates[1])\n",
    "plt.plot(predictX, result, 'ro')\n",
    "plt.plot(predictX, result2, 'o')"
   ]
  },
  {
   "cell_type": "code",
   "execution_count": null,
   "id": "0a47cd51-e88b-4e35-b49c-73d110f4a3db",
   "metadata": {},
   "outputs": [],
   "source": []
  },
  {
   "cell_type": "code",
   "execution_count": null,
   "id": "fc8255ef-0086-4751-aebd-a3a50cb1a6f3",
   "metadata": {},
   "outputs": [],
   "source": []
  }
 ],
 "metadata": {
  "kernelspec": {
   "display_name": "Python 3",
   "language": "python",
   "name": "python3"
  },
  "language_info": {
   "codemirror_mode": {
    "name": "ipython",
    "version": 3
   },
   "file_extension": ".py",
   "mimetype": "text/x-python",
   "name": "python",
   "nbconvert_exporter": "python",
   "pygments_lexer": "ipython3",
   "version": "3.9.5"
  }
 },
 "nbformat": 4,
 "nbformat_minor": 5
}
